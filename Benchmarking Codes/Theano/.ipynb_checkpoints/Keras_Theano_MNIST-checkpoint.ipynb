{
 "cells": [
  {
   "cell_type": "code",
   "execution_count": 1,
   "id": "7cd8db5f",
   "metadata": {},
   "outputs": [],
   "source": [
    "import os\n",
    "# Toggling between CPU and GPU\n",
    "# GPU in use is NVIDIA GEFORCE 940M\n",
    "# Theano backend is being used for keras\n",
    "# To make the GPU unavailable, uncomment the line of code below (i.e to make CPU available)\n",
    "#os.environ[\"CUDA_VISIBLE_DEVICES\"] = \"1\""
   ]
  },
  {
   "cell_type": "code",
   "execution_count": 2,
   "id": "0c936895",
   "metadata": {},
   "outputs": [],
   "source": [
    "from tensorflow.keras.callbacks import TensorBoard\n",
    "file_name = 'my_save_model'\n",
    "tensorboard = TensorBoard(log_dir=\"logs\\\\{}\".format(file_name))"
   ]
  },
  {
   "cell_type": "code",
   "execution_count": 3,
   "id": "0e05a7ee",
   "metadata": {},
   "outputs": [
    {
     "name": "stderr",
     "output_type": "stream",
     "text": [
      "Using Theano backend.\n"
     ]
    }
   ],
   "source": [
    "import numpy as np\n",
    "import time\n",
    "import datetime\n",
    "#from time import time\n",
    "from keras.datasets import mnist\n",
    "from keras.utils import to_categorical\n",
    "from keras.utils import np_utils\n",
    "from keras.layers import *\n",
    "from keras.models import *\n",
    "import matplotlib.pyplot as plt\n",
    "\n",
    "import sys,humanize,psutil,GPUtil"
   ]
  },
  {
   "cell_type": "code",
   "execution_count": 4,
   "id": "ece0ad90",
   "metadata": {},
   "outputs": [
    {
     "name": "stdout",
     "output_type": "stream",
     "text": [
      "Training dataset\n",
      "(60000, 28, 28)\n",
      "(60000,)\n",
      "Validation dataset:\n",
      "(10000, 28, 28)\n",
      "(10000,)\n"
     ]
    }
   ],
   "source": [
    "(train_images, train_labels), (validation_images, validation_labels) = mnist.load_data()\n",
    "print(\"Training dataset\")\n",
    "print(train_images.shape)\n",
    "print(train_labels.shape)\n",
    "print('Validation dataset:')\n",
    "print(validation_images.shape)\n",
    "print(validation_labels.shape)"
   ]
  },
  {
   "cell_type": "code",
   "execution_count": 5,
   "id": "4ab4bfd3",
   "metadata": {},
   "outputs": [
    {
     "name": "stdout",
     "output_type": "stream",
     "text": [
      "Training Images: (60000, 28, 28)\n",
      "Testing Images: (10000, 28, 28)\n"
     ]
    }
   ],
   "source": [
    "# Lets determine the dataset characteristics\n",
    "print('Training Images: {}'.format(train_images.shape))\n",
    "print('Testing Images: {}'.format(validation_images.shape))"
   ]
  },
  {
   "cell_type": "code",
   "execution_count": 6,
   "id": "a539c35e",
   "metadata": {},
   "outputs": [
    {
     "name": "stdout",
     "output_type": "stream",
     "text": [
      "(28, 28)\n"
     ]
    }
   ],
   "source": [
    "# Now for a single image \n",
    "print(train_images[0].shape)"
   ]
  },
  {
   "cell_type": "code",
   "execution_count": 7,
   "id": "a9546890",
   "metadata": {},
   "outputs": [
    {
     "data": {
      "image/png": "[encoded data removed]",
      "text/plain": [
       "<Figure size 288x288 with 1 Axes>"
      ]
     },
     "metadata": {
      "needs_background": "light"
     },
     "output_type": "display_data"
    },
    {
     "name": "stdout",
     "output_type": "stream",
     "text": [
      "0\n"
     ]
    }
   ],
   "source": [
    "plt.matshow(train_images[2], cmap = 'gray')\n",
    "plt.show()\n",
    "print(train_labels[1])"
   ]
  },
  {
   "cell_type": "code",
   "execution_count": 8,
   "id": "f125281c",
   "metadata": {},
   "outputs": [],
   "source": [
    "# Building a convolutional neural network for object recognition on MNIST data.\n",
    "\n",
    "# fix random seed for reproducibility\n",
    "seed = 6\n",
    "np.random.seed(seed) \n",
    "\n",
    "# load the data\n",
    "(train_images, train_labels), (validation_images, validation_labels) = mnist.load_data()\n",
    "\n",
    "rows, cols = 28, 28\n",
    "train_images = train_images.reshape(train_images.shape[0], 1, 28, 28)\n",
    "validation_images = validation_images.reshape(validation_images.shape[0], 1, 28, 28)\n",
    "\n",
    "input_shape = (1, rows, cols)\n",
    "\n",
    "# normalize the inputs from 0-255 to 0.0-1.0\n",
    "train_images = train_images.astype('float32')\n",
    "validation_images = validation_images.astype('float32')\n",
    "train_images = train_images / 255.0\n",
    "validation_images = validation_images / 255.0"
   ]
  },
  {
   "cell_type": "code",
   "execution_count": 9,
   "id": "4752db06",
   "metadata": {},
   "outputs": [
    {
     "name": "stdout",
     "output_type": "stream",
     "text": [
      "(60000,)\n",
      "5\n"
     ]
    }
   ],
   "source": [
    "# class labels shape\n",
    "print(train_labels.shape)\n",
    "print(train_labels[0])"
   ]
  },
  {
   "cell_type": "code",
   "execution_count": 10,
   "id": "eee68bf2",
   "metadata": {},
   "outputs": [
    {
     "name": "stdout",
     "output_type": "stream",
     "text": [
      "(60000, 10)\n",
      "[0. 0. 0. 0. 0. 1. 0. 0. 0. 0.]\n"
     ]
    }
   ],
   "source": [
    "# hot encode outputs\n",
    "train_labels = np_utils.to_categorical(train_labels)\n",
    "validation_labels = np_utils.to_categorical(validation_labels)\n",
    "num_classes = validation_labels.shape[1]\n",
    "\n",
    "print(train_labels.shape)\n",
    "print(train_labels[0])"
   ]
  },
  {
   "cell_type": "markdown",
   "id": "738600a9",
   "metadata": {},
   "source": [
    "Building the LeNet-5 Convolutional Neural Network"
   ]
  },
  {
   "cell_type": "code",
   "execution_count": 11,
   "id": "a7d864a9",
   "metadata": {},
   "outputs": [
    {
     "name": "stdout",
     "output_type": "stream",
     "text": [
      "_________________________________________________________________\n",
      "Layer (type)                 Output Shape              Param #   \n",
      "=================================================================\n",
      "conv2d_1 (Conv2D)            (None, 6, 24, 24)         156       \n",
      "_________________________________________________________________\n",
      "max_pooling2d_1 (MaxPooling2 (None, 6, 12, 12)         0         \n",
      "_________________________________________________________________\n",
      "conv2d_2 (Conv2D)            (None, 16, 8, 8)          2416      \n",
      "_________________________________________________________________\n",
      "max_pooling2d_2 (MaxPooling2 (None, 16, 4, 4)          0         \n",
      "_________________________________________________________________\n",
      "flatten_1 (Flatten)          (None, 256)               0         \n",
      "_________________________________________________________________\n",
      "dense_1 (Dense)              (None, 120)               30840     \n",
      "_________________________________________________________________\n",
      "dense_2 (Dense)              (None, 84)                10164     \n",
      "_________________________________________________________________\n",
      "dense_3 (Dense)              (None, 10)                850       \n",
      "=================================================================\n",
      "Total params: 44,426\n",
      "Trainable params: 44,426\n",
      "Non-trainable params: 0\n",
      "_________________________________________________________________\n"
     ]
    }
   ],
   "source": [
    "# Model Buiding\n",
    "model = Sequential()\n",
    "\n",
    "# Layer 1\n",
    "# Convolution 1: Filters as we know is 6. Filter size is 5x5, relu is the activation function\n",
    "model.add(Conv2D(filters = 6, kernel_size = 5, strides = 1, activation = 'relu', input_shape=input_shape))\n",
    "# Pooling Layer 1\n",
    "model.add(MaxPooling2D(pool_size = 2, strides = 2))\n",
    "\n",
    "# Layer 2\n",
    "# Convolution 2: Input = 14x14x6. Output = 10x10x16 Conv2d\n",
    "model.add(Conv2D(filters = 16, kernel_size = 5, strides = 1, activation = 'relu', input_shape=(6,14,14)))\n",
    "# Pooling Layer 2\n",
    "model.add(MaxPooling2D(pool_size = 2, strides = 2))\n",
    "\n",
    "# Flatten \n",
    "model.add(Flatten())\n",
    "\n",
    "# Layer 3\n",
    "# Fully Connected Layer 1\n",
    "model.add(Dense(units= 120, activation = 'relu'))\n",
    "\n",
    "# Layer 4\n",
    "# Fully Connected Layer 2\n",
    "model.add(Dense(units= 84, activation = 'relu'))\n",
    "\n",
    "# Layer 5\n",
    "# Output Laer\n",
    "model.add(Dense(units= 10, activation = 'softmax'))\n",
    "\n",
    "model.summary()"
   ]
  },
  {
   "cell_type": "code",
   "execution_count": 12,
   "id": "274bbf21",
   "metadata": {},
   "outputs": [],
   "source": [
    "# define hyper parameters\n",
    "learning_rate = 0.01\n",
    "weight_decay = 1e-6\n",
    "momentum = 0.9\n",
    "\n",
    "t1 = time.time()\n",
    "# define optimizer and compile model\n",
    "model.compile(optimizer = 'adam', loss = 'categorical_crossentropy', metrics = ['accuracy'])"
   ]
  },
  {
   "cell_type": "code",
   "execution_count": null,
   "id": "11177661",
   "metadata": {},
   "outputs": [],
   "source": [
    "# Define function (For CPU) Memory Report\n",
    "def cpu_mem_report():\n",
    "  print(\"CPU RAM Free: \" + humanize.naturalsize( psutil.virtual_memory().available ))\n",
    "\n",
    "  # Getting usage of cpu virtual_memory in GB\n",
    "  print('RAM Used (GB):', psutil.virtual_memory()[3]/1000000000)\n",
    "  # Getting % usage of cpu virtual_memory\n",
    "  print('CPU RAM % used: ', psutil.virtual_memory()[2])"
   ]
  },
  {
   "cell_type": "code",
   "execution_count": 13,
   "id": "2b396192",
   "metadata": {},
   "outputs": [],
   "source": [
    "# Define function (For GPU) Memory Report\n",
    "def gpu_mem_report():\n",
    "  print(\"CPU RAM Free: \" + humanize.naturalsize( psutil.virtual_memory().available ))\n",
    "\n",
    "  GPUs = GPUtil.getGPUs()\n",
    "  for i, gpu in enumerate(GPUs):\n",
    "    print('GPU {:d} ... Mem Free: {:.0f}MB / {:.0f}MB | Utilization {:3.0f}%'.format(i, gpu.memoryFree, gpu.memoryTotal, gpu.memoryUtil*100))"
   ]
  },
  {
   "cell_type": "code",
   "execution_count": 14,
   "id": "edaf5607",
   "metadata": {},
   "outputs": [
    {
     "name": "stdout",
     "output_type": "stream",
     "text": [
      "Train on 48000 samples, validate on 12000 samples\n",
      "Epoch 1/10\n",
      "48000/48000 [==============================] - 28s 579us/step - loss: 0.1574 - acc: 0.9504 - val_loss: 0.0761 - val_acc: 0.9767\n",
      "Epoch 2/10\n",
      "48000/48000 [==============================] - 28s 574us/step - loss: 0.0637 - acc: 0.9809 - val_loss: 0.0671 - val_acc: 0.9803\n",
      "Epoch 3/10\n",
      "48000/48000 [==============================] - 27s 572us/step - loss: 0.0471 - acc: 0.9853 - val_loss: 0.0494 - val_acc: 0.9861\n",
      "Epoch 4/10\n",
      "48000/48000 [==============================] - 27s 570us/step - loss: 0.0359 - acc: 0.9888 - val_loss: 0.0628 - val_acc: 0.9830\n",
      "Epoch 5/10\n",
      "48000/48000 [==============================] - 27s 563us/step - loss: 0.0299 - acc: 0.9907 - val_loss: 0.0548 - val_acc: 0.9860\n",
      "Epoch 6/10\n",
      "48000/48000 [==============================] - 27s 569us/step - loss: 0.0261 - acc: 0.9920 - val_loss: 0.0534 - val_acc: 0.9874\n",
      "Epoch 7/10\n",
      "48000/48000 [==============================] - 28s 578us/step - loss: 0.0231 - acc: 0.9931 - val_loss: 0.0547 - val_acc: 0.9862\n",
      "Epoch 8/10\n",
      "48000/48000 [==============================] - 28s 581us/step - loss: 0.0227 - acc: 0.9927 - val_loss: 0.0535 - val_acc: 0.9862\n",
      "Epoch 9/10\n",
      "48000/48000 [==============================] - 27s 572us/step - loss: 0.0193 - acc: 0.9943 - val_loss: 0.0620 - val_acc: 0.9874\n",
      "Epoch 10/10\n",
      "48000/48000 [==============================] - 28s 584us/step - loss: 0.0175 - acc: 0.9947 - val_loss: 0.0528 - val_acc: 0.9888\n",
      "Training Time:  285.07834100723267\n",
      "CPU RAM Free: 2.2 GB\n",
      "GPU 0 ... Mem Free: 525MB / 2048MB | Utilization  72%\n"
     ]
    }
   ],
   "source": [
    "# Train model\n",
    "t1 = time.time()\n",
    "\n",
    "# Training for 10 epochs and a batch size of 10\n",
    "history = model.fit( train_images, train_labels, verbose=1, epochs = 10, batch_size = 10, validation_split = 0.2, callbacks=[tensorboard])\n",
    "#model.fit(train_images[:20000], train_labels[:20000], epochs = , batch_size = 10)\n",
    "t2 = time.time() \n",
    "print(\"Training Time: \", t2-t1)\n",
    "#cpu_mem_report()\n",
    "gpu_mem_report()"
   ]
  },
  {
   "cell_type": "code",
   "execution_count": null,
   "id": "586730f2",
   "metadata": {},
   "outputs": [],
   "source": [
    "#%tensorboard --logdir logs\n",
    "#%tensorboard --logdir {logs_base_dir}  --host localhost"
   ]
  },
  {
   "cell_type": "code",
   "execution_count": 15,
   "id": "6caac837",
   "metadata": {},
   "outputs": [
    {
     "name": "stdout",
     "output_type": "stream",
     "text": [
      "10000/10000 [==============================] - 1s 123us/step\n",
      "Accuracy =  99.1 %\n",
      "Testing Time:  1.2335729598999023\n"
     ]
    }
   ],
   "source": [
    "# Evaluating the framework on the Test dataset\n",
    "t1 = time.time()\n",
    "\n",
    "#test_loss, test_acc = model.evaluate(validation_images, validation_labels, verbose=2)\n",
    "#print(\"Testing Loss: \", test_loss)\n",
    "#print(\"Testing Accuracy: \", test_acc*100,\"%\")\n",
    "\n",
    "_, acc = model.evaluate(validation_images, validation_labels)\n",
    "print(\"Accuracy = \", (acc*100.0), \"%\")\n",
    "\n",
    "t2 = time.time() \n",
    "print(\"Testing Time: \", t2-t1)"
   ]
  },
  {
   "cell_type": "code",
   "execution_count": 16,
   "id": "05f77aa8",
   "metadata": {},
   "outputs": [
    {
     "data": {
      "image/png": "[encoded data removed]",
      "text/plain": [
       "<Figure size 432x288 with 1 Axes>"
      ]
     },
     "metadata": {
      "needs_background": "light"
     },
     "output_type": "display_data"
    }
   ],
   "source": [
    "# Plot the training and validation accuracy and loss at each epoch\n",
    "loss = history.history['loss']\n",
    "val_loss = history.history['val_loss']\n",
    "epochs = range(1, len(loss) + 1)\n",
    "plt.plot(epochs, loss, 'y', label='Training Loss')\n",
    "plt.plot(epochs, val_loss,'r', label='Validation Loss')\n",
    "plt.title('Training and Validation Loss')\n",
    "plt.xlabel('Epochs')\n",
    "plt.ylabel('Loss')\n",
    "plt.legend()\n",
    "plt.show()"
   ]
  },
  {
   "cell_type": "code",
   "execution_count": 17,
   "id": "03bfee97",
   "metadata": {},
   "outputs": [
    {
     "data": {
      "image/png": "[encoded data removed]",
      "text/plain": [
       "<Figure size 432x288 with 1 Axes>"
      ]
     },
     "metadata": {
      "needs_background": "light"
     },
     "output_type": "display_data"
    }
   ],
   "source": [
    "acc = history.history['acc']\n",
    "val_acc = history.history['val_acc']\n",
    "plt.plot(epochs, acc, 'y', label='Training acc')\n",
    "plt.plot(epochs, val_acc,'r', label='Validation acc')\n",
    "plt.title('Training and Validation Accuracy')\n",
    "plt.xlabel('Epochs')\n",
    "plt.ylabel('Accuracy')\n",
    "plt.legend()\n",
    "plt.show()"
   ]
  },
  {
   "cell_type": "code",
   "execution_count": null,
   "id": "591f20f2",
   "metadata": {},
   "outputs": [],
   "source": []
  }
 ],
 "metadata": {
  "kernelspec": {
   "display_name": "MyTestEnv",
   "language": "python",
   "name": "mytestenv"
  },
  "language_info": {
   "codemirror_mode": {
    "name": "ipython",
    "version": 3
   },
   "file_extension": ".py",
   "mimetype": "text/x-python",
   "name": "python",
   "nbconvert_exporter": "python",
   "pygments_lexer": "ipython3",
   "version": "3.5.4"
  }
 },
 "nbformat": 4,
 "nbformat_minor": 5
}
