{
 "cells": [
  {
   "cell_type": "markdown",
   "id": "015d26e3",
   "metadata": {},
   "source": [
    "# **Fashion MNIST with Keras [Theano Backend]**\n",
    "\n",
    "## **Overview**\n",
    "Fashion MNIST is a dataset that resembles MNIST but instead of handwritten digits, it uses images of clothing. There are 10 classes and each image is 28x28 grayscale. A total of 70000 images; 60000 for training and 10,000 for testing make up the dataset.\n"
   ]
  },
  {
   "cell_type": "code",
   "execution_count": 1,
   "id": "5f487806",
   "metadata": {},
   "outputs": [],
   "source": [
    "import os\n",
    "# Toggling between CPU and GPU\n",
    "# GPU in use is NVIDIA GEFORCE 940M\n",
    "# Theano backend is being used for keras\n",
    "# To make the GPU unavailable, uncomment the line of code below\n",
    "os.environ[\"CUDA_VISIBLE_DEVICES\"] = \"1\""
   ]
  },
  {
   "cell_type": "code",
   "execution_count": 2,
   "id": "f5e406be",
   "metadata": {},
   "outputs": [],
   "source": [
    "from tensorflow.keras.callbacks import TensorBoard\n",
    "file_name = 'my_save_model'\n",
    "tensorboard = TensorBoard(log_dir=\"logs\\\\{}\".format(file_name))"
   ]
  },
  {
   "cell_type": "code",
   "execution_count": 3,
   "id": "ea5bb35b",
   "metadata": {},
   "outputs": [
    {
     "name": "stderr",
     "output_type": "stream",
     "text": [
      "Using Theano backend.\n"
     ]
    }
   ],
   "source": [
    "import numpy as np\n",
    "import time\n",
    "import datetime\n",
    "#from time import time\n",
    "from keras.datasets import fashion_mnist\n",
    "from keras.utils import to_categorical\n",
    "from keras.utils import np_utils\n",
    "from keras.layers import *\n",
    "from keras.models import *\n",
    "import matplotlib.pyplot as plt\n",
    "\n",
    "import sys,humanize,psutil,GPUtil"
   ]
  },
  {
   "cell_type": "code",
   "execution_count": 4,
   "id": "a98c7a85",
   "metadata": {},
   "outputs": [
    {
     "name": "stdout",
     "output_type": "stream",
     "text": [
      "Training dataset\n",
      "(60000, 28, 28)\n",
      "(60000,)\n",
      "Validation dataset:\n",
      "(10000, 28, 28)\n",
      "(10000,)\n"
     ]
    }
   ],
   "source": [
    "(train_images, train_labels), (validation_images, validation_labels) = fashion_mnist.load_data()\n",
    "print(\"Training dataset\")\n",
    "print(train_images.shape)\n",
    "print(train_labels.shape)\n",
    "print('Validation dataset:')\n",
    "print(validation_images.shape)\n",
    "print(validation_labels.shape)"
   ]
  },
  {
   "cell_type": "code",
   "execution_count": 5,
   "id": "91ae6eb8",
   "metadata": {},
   "outputs": [
    {
     "name": "stdout",
     "output_type": "stream",
     "text": [
      "Training Images: (60000, 28, 28)\n",
      "Testing Images: (10000, 28, 28)\n"
     ]
    }
   ],
   "source": [
    "# Lets determine the dataset characteristics\n",
    "print('Training Images: {}'.format(train_images.shape))\n",
    "print('Testing Images: {}'.format(validation_images.shape))"
   ]
  },
  {
   "cell_type": "code",
   "execution_count": 6,
   "id": "c9b164c0",
   "metadata": {},
   "outputs": [
    {
     "name": "stdout",
     "output_type": "stream",
     "text": [
      "(28, 28)\n"
     ]
    }
   ],
   "source": [
    "# Now for a single image \n",
    "print(train_images[0].shape)"
   ]
  },
  {
   "cell_type": "code",
   "execution_count": 7,
   "id": "c813b3b1",
   "metadata": {},
   "outputs": [
    {
     "data": {
      "image/png": "[encoded data removed]",
      "text/plain": [
       "<Figure size 288x288 with 1 Axes>"
      ]
     },
     "metadata": {
      "needs_background": "light"
     },
     "output_type": "display_data"
    },
    {
     "name": "stdout",
     "output_type": "stream",
     "text": [
      "0\n"
     ]
    }
   ],
   "source": [
    "plt.matshow(train_images[2], cmap = 'gray')\n",
    "plt.show()\n",
    "print(train_labels[1])"
   ]
  },
  {
   "cell_type": "code",
   "execution_count": 8,
   "id": "1bce742f",
   "metadata": {},
   "outputs": [],
   "source": [
    "# Building a convolutional neural network for object recognition on Fashion MNIST data.\n",
    "\n",
    "# fix random seed for reproducibility\n",
    "seed = 6\n",
    "np.random.seed(seed) \n",
    "\n",
    "# load the data\n",
    "(train_images, train_labels), (validation_images, validation_labels) = fashion_mnist.load_data()\n",
    "\n",
    "rows, cols = 28, 28\n",
    "train_images = train_images.reshape(train_images.shape[0], 1, 28, 28)\n",
    "validation_images = validation_images.reshape(validation_images.shape[0], 1, 28, 28)\n",
    "\n",
    "input_shape = (1, rows, cols)\n",
    "\n",
    "# normalize the inputs from 0-255 to 0.0-1.0\n",
    "train_images = train_images.astype('float32')\n",
    "validation_images = validation_images.astype('float32')\n",
    "train_images = train_images / 255.0\n",
    "validation_images = validation_images / 255.0"
   ]
  },
  {
   "cell_type": "code",
   "execution_count": 9,
   "id": "cb0a0659",
   "metadata": {},
   "outputs": [
    {
     "name": "stdout",
     "output_type": "stream",
     "text": [
      "(60000,)\n",
      "9\n"
     ]
    }
   ],
   "source": [
    "# class labels shape\n",
    "print(train_labels.shape)\n",
    "print(train_labels[0])"
   ]
  },
  {
   "cell_type": "code",
   "execution_count": 10,
   "id": "a9aa524b",
   "metadata": {},
   "outputs": [
    {
     "name": "stdout",
     "output_type": "stream",
     "text": [
      "(60000, 10)\n",
      "[0. 0. 0. 0. 0. 0. 0. 0. 0. 1.]\n"
     ]
    }
   ],
   "source": [
    "# hot encode outputs\n",
    "train_labels = np_utils.to_categorical(train_labels)\n",
    "validation_labels = np_utils.to_categorical(validation_labels)\n",
    "num_classes = validation_labels.shape[1]\n",
    "\n",
    "print(train_labels.shape)\n",
    "print(train_labels[0])"
   ]
  },
  {
   "cell_type": "code",
   "execution_count": 11,
   "id": "8aa640c4",
   "metadata": {},
   "outputs": [
    {
     "name": "stdout",
     "output_type": "stream",
     "text": [
      "_________________________________________________________________\n",
      "Layer (type)                 Output Shape              Param #   \n",
      "=================================================================\n",
      "conv2d_1 (Conv2D)            (None, 6, 24, 24)         156       \n",
      "_________________________________________________________________\n",
      "max_pooling2d_1 (MaxPooling2 (None, 6, 12, 12)         0         \n",
      "_________________________________________________________________\n",
      "conv2d_2 (Conv2D)            (None, 16, 8, 8)          2416      \n",
      "_________________________________________________________________\n",
      "max_pooling2d_2 (MaxPooling2 (None, 16, 4, 4)          0         \n",
      "_________________________________________________________________\n",
      "flatten_1 (Flatten)          (None, 256)               0         \n",
      "_________________________________________________________________\n",
      "dense_1 (Dense)              (None, 120)               30840     \n",
      "_________________________________________________________________\n",
      "dense_2 (Dense)              (None, 84)                10164     \n",
      "_________________________________________________________________\n",
      "dense_3 (Dense)              (None, 10)                850       \n",
      "=================================================================\n",
      "Total params: 44,426\n",
      "Trainable params: 44,426\n",
      "Non-trainable params: 0\n",
      "_________________________________________________________________\n"
     ]
    }
   ],
   "source": [
    "# Model Buiding\n",
    "model = Sequential()\n",
    "\n",
    "# Layer 1\n",
    "# Convolution 1: Filters as we know is 6. Filter size is 5x5, relu is the activation function\n",
    "model.add(Conv2D(filters = 6, kernel_size = 5, strides = 1, activation = 'relu', input_shape=input_shape))\n",
    "# Pooling Layer 1\n",
    "model.add(MaxPooling2D(pool_size = 2, strides = 2))\n",
    "\n",
    "# Layer 2\n",
    "# Convolution 2: Input = 14x14x6. Output = 10x10x16 Conv2d\n",
    "model.add(Conv2D(filters = 16, kernel_size = 5, strides = 1, activation = 'relu', input_shape=(6,14,14)))\n",
    "# Pooling Layer 2\n",
    "model.add(MaxPooling2D(pool_size = 2, strides = 2))\n",
    "\n",
    "# Flatten \n",
    "model.add(Flatten())\n",
    "\n",
    "# Layer 3\n",
    "# Fully Connected Layer 1\n",
    "model.add(Dense(units= 120, activation = 'relu'))\n",
    "\n",
    "# Layer 4\n",
    "# Fully Connected Layer 2\n",
    "model.add(Dense(units= 84, activation = 'relu'))\n",
    "\n",
    "# Layer 5\n",
    "# Output Laer\n",
    "model.add(Dense(units= 10, activation = 'softmax'))\n",
    "\n",
    "model.summary()"
   ]
  },
  {
   "cell_type": "code",
   "execution_count": 12,
   "id": "a7fa1674",
   "metadata": {},
   "outputs": [],
   "source": [
    "# from keras.optimizers import SGD\n",
    "# define hyper parameters\n",
    "learning_rate = 0.01\n",
    "weight_decay = 1e-6\n",
    "momentum = 0.9\n",
    "\n",
    "t1 = time.time()\n",
    "# define optimizer and compile model\n",
    "model.compile(optimizer = 'adam', loss = 'categorical_crossentropy', metrics = ['accuracy'])"
   ]
  },
  {
   "cell_type": "code",
   "execution_count": 13,
   "id": "c8c98666",
   "metadata": {},
   "outputs": [],
   "source": [
    "# Define function (For CPU) Memory Report\n",
    "def cpu_mem_report():\n",
    "  print(\"CPU RAM Free: \" + humanize.naturalsize( psutil.virtual_memory().available ))\n",
    "\n",
    "  # Getting usage of cpu virtual_memory in GB\n",
    "  print('RAM Used (GB):', psutil.virtual_memory()[3]/1000000000)\n",
    "  # Getting % usage of cpu virtual_memory\n",
    "  print('CPU RAM % used: ', psutil.virtual_memory()[2])"
   ]
  },
  {
   "cell_type": "code",
   "execution_count": 14,
   "id": "5eebed24",
   "metadata": {},
   "outputs": [],
   "source": [
    "# Define function (For GPU) Memory Report\n",
    "def gpu_mem_report():\n",
    "  print(\"CPU RAM Free: \" + humanize.naturalsize( psutil.virtual_memory().available ))\n",
    "\n",
    "  GPUs = GPUtil.getGPUs()\n",
    "  for i, gpu in enumerate(GPUs):\n",
    "    print('GPU {:d} ... Mem Free: {:.0f}MB / {:.0f}MB | Utilization {:3.0f}%'.format(i, gpu.memoryFree, gpu.memoryTotal, gpu.memoryUtil*100))"
   ]
  },
  {
   "cell_type": "code",
   "execution_count": 15,
   "id": "cca7f631",
   "metadata": {},
   "outputs": [
    {
     "name": "stdout",
     "output_type": "stream",
     "text": [
      "Train on 48000 samples, validate on 12000 samples\n",
      "Epoch 1/10\n",
      "48000/48000 [==============================] - 31s 652us/step - loss: 0.5074 - acc: 0.8122 - val_loss: 0.3904 - val_acc: 0.8560\n",
      "Epoch 2/10\n",
      "48000/48000 [==============================] - 33s 679us/step - loss: 0.3518 - acc: 0.8697 - val_loss: 0.3563 - val_acc: 0.8666\n",
      "Epoch 3/10\n",
      "48000/48000 [==============================] - 32s 676us/step - loss: 0.3109 - acc: 0.8840 - val_loss: 0.3201 - val_acc: 0.8858\n",
      "Epoch 4/10\n",
      "48000/48000 [==============================] - 33s 683us/step - loss: 0.2868 - acc: 0.8924 - val_loss: 0.3047 - val_acc: 0.8867\n",
      "Epoch 5/10\n",
      "48000/48000 [==============================] - 32s 662us/step - loss: 0.2664 - acc: 0.9002 - val_loss: 0.3010 - val_acc: 0.8895\n",
      "Epoch 6/10\n",
      "48000/48000 [==============================] - 34s 714us/step - loss: 0.2502 - acc: 0.9059 - val_loss: 0.3067 - val_acc: 0.8913\n",
      "Epoch 7/10\n",
      "48000/48000 [==============================] - 33s 681us/step - loss: 0.2345 - acc: 0.9108 - val_loss: 0.2860 - val_acc: 0.8967\n",
      "Epoch 8/10\n",
      "48000/48000 [==============================] - 33s 687us/step - loss: 0.2213 - acc: 0.9161 - val_loss: 0.2892 - val_acc: 0.8992\n",
      "Epoch 9/10\n",
      "48000/48000 [==============================] - 32s 675us/step - loss: 0.2122 - acc: 0.9200 - val_loss: 0.2846 - val_acc: 0.8992\n",
      "Epoch 10/10\n",
      "48000/48000 [==============================] - 33s 689us/step - loss: 0.2027 - acc: 0.9231 - val_loss: 0.3058 - val_acc: 0.8959\n",
      "Training Time:  395.6300003528595\n",
      "CPU RAM Free: 2.5 GB\n",
      "RAM Used (GB): 5.967302656\n",
      "CPU RAM % used:  70.2\n"
     ]
    }
   ],
   "source": [
    "# Train model\n",
    "t1 = time.time()\n",
    "\n",
    "# Training for 10 epochs and a batch size of 10\n",
    "history = model.fit( train_images, train_labels, verbose=1, epochs = 10, batch_size = 10, validation_split = 0.2, callbacks=[tensorboard])\n",
    "#model.fit(train_images[:20000], train_labels[:20000], epochs = , batch_size = 10)\n",
    "t2 = time.time() \n",
    "print(\"Training Time: \", t2-t1)\n",
    "cpu_mem_report()\n",
    "#gpu_mem_report()\n",
    "#print(t2-t1)"
   ]
  },
  {
   "cell_type": "code",
   "execution_count": 16,
   "id": "65b35156",
   "metadata": {},
   "outputs": [
    {
     "name": "stdout",
     "output_type": "stream",
     "text": [
      "10000/10000 [==============================] - 2s 162us/step\n",
      "Accuracy =  89.5 %\n",
      "Testing Time:  1.6228549480438232\n"
     ]
    }
   ],
   "source": [
    "# Evaluating the framework on the Test dataset\n",
    "t1 = time.time()\n",
    "\n",
    "#test_loss, test_acc = model.evaluate(validation_images, validation_labels, verbose=2)\n",
    "#print(\"Testing Loss: \", test_loss)\n",
    "#print(\"Testing Accuracy: \", test_acc*100,\"%\")\n",
    "\n",
    "_, acc = model.evaluate(validation_images, validation_labels)\n",
    "print(\"Accuracy = \", (acc*100.0), \"%\")\n",
    "\n",
    "t2 = time.time() \n",
    "print(\"Testing Time: \", t2-t1)"
   ]
  },
  {
   "cell_type": "code",
   "execution_count": 17,
   "id": "2b9e3844",
   "metadata": {},
   "outputs": [
    {
     "data": {
      "image/png": "[encoded data removed]",
      "text/plain": [
       "<Figure size 432x288 with 1 Axes>"
      ]
     },
     "metadata": {
      "needs_background": "light"
     },
     "output_type": "display_data"
    }
   ],
   "source": [
    "# Plot the training and validation accuracy and loss at each epoch\n",
    "loss = history.history['loss']\n",
    "val_loss = history.history['val_loss']\n",
    "epochs = range(1, len(loss) + 1)\n",
    "plt.plot(epochs, loss, 'y', label='Training Loss')\n",
    "plt.plot(epochs, val_loss,'r', label='Validation Loss')\n",
    "plt.title('Training and Validation Loss')\n",
    "plt.xlabel('Epochs')\n",
    "plt.ylabel('Loss')\n",
    "plt.legend()\n",
    "plt.show()"
   ]
  },
  {
   "cell_type": "code",
   "execution_count": 18,
   "id": "77d9533a",
   "metadata": {},
   "outputs": [
    {
     "data": {
      "image/png": "[encoded data removed]",
      "text/plain": [
       "<Figure size 432x288 with 1 Axes>"
      ]
     },
     "metadata": {
      "needs_background": "light"
     },
     "output_type": "display_data"
    }
   ],
   "source": [
    "acc = history.history['acc']\n",
    "val_acc = history.history['val_acc']\n",
    "plt.plot(epochs, acc, 'y', label='Training acc')\n",
    "plt.plot(epochs, val_acc,'r', label='Validation acc')\n",
    "plt.title('Training and Validation Accuracy')\n",
    "plt.xlabel('Epochs')\n",
    "plt.ylabel('Accuracy')\n",
    "plt.legend()\n",
    "plt.show()"
   ]
  },
  {
   "cell_type": "code",
   "execution_count": null,
   "id": "3f2cf4fe",
   "metadata": {},
   "outputs": [],
   "source": []
  }
 ],
 "metadata": {
  "kernelspec": {
   "display_name": "MyTestEnv",
   "language": "python",
   "name": "mytestenv"
  },
  "language_info": {
   "codemirror_mode": {
    "name": "ipython",
    "version": 3
   },
   "file_extension": ".py",
   "mimetype": "text/x-python",
   "name": "python",
   "nbconvert_exporter": "python",
   "pygments_lexer": "ipython3",
   "version": "3.5.4"
  }
 },
 "nbformat": 4,
 "nbformat_minor": 5
}
