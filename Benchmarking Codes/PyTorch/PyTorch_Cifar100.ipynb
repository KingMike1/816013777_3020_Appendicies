{
 "cells": [
  {
   "cell_type": "code",
   "execution_count": 1,
   "id": "ebd2df35",
   "metadata": {},
   "outputs": [],
   "source": [
    "import os\n",
    "# Toggling between CPU and GPU\n",
    "# GPU in use is NVIDIA GEFORCE 940M\n",
    "# To make the GPU unavailable, uncomment the line of code below\n",
    "#os.environ[\"CUDA_VISIBLE_DEVICES\"] = \"1\""
   ]
  },
  {
   "cell_type": "code",
   "execution_count": 2,
   "id": "3f8ad970",
   "metadata": {},
   "outputs": [],
   "source": [
    "# PyTorch model and training necessities\n",
    "import torch\n",
    "import torch.nn as nn\n",
    "import torch.nn.functional as F\n",
    "import torch.optim as optim\n",
    "import time\n",
    "# Image datasets and image manipulation\n",
    "import torchvision\n",
    "import torchvision.transforms as transforms\n",
    "\n",
    "# Image Display\n",
    "import matplotlib.pyplot as plt\n",
    "import numpy as np\n",
    "\n",
    "import sys,humanize,psutil,GPUtil"
   ]
  },
  {
   "cell_type": "code",
   "execution_count": 3,
   "id": "a323fef8",
   "metadata": {},
   "outputs": [
    {
     "name": "stdout",
     "output_type": "stream",
     "text": [
      "cpu\n"
     ]
    }
   ],
   "source": [
    "device = torch.device('cuda' if torch.cuda.is_available() else 'cpu')\n",
    "print(device)"
   ]
  },
  {
   "cell_type": "code",
   "execution_count": 4,
   "id": "b61b6ba0",
   "metadata": {},
   "outputs": [],
   "source": [
    "# PyTorch TensorBoard Support\n",
    "from torch.utils.tensorboard import SummaryWriter\n",
    "\n",
    "#default log_dir is runs\n",
    "writer = SummaryWriter('runs/CIFAR')"
   ]
  },
  {
   "cell_type": "code",
   "execution_count": 5,
   "id": "ee8fd78a",
   "metadata": {},
   "outputs": [],
   "source": [
    "# Hyperparameter (same under the hood of tensorflow)\n",
    "batch_size = 10"
   ]
  },
  {
   "cell_type": "code",
   "execution_count": 6,
   "id": "f56ff4b4",
   "metadata": {},
   "outputs": [
    {
     "name": "stdout",
     "output_type": "stream",
     "text": [
      "Files already downloaded and verified\n",
      "Files already downloaded and verified\n"
     ]
    }
   ],
   "source": [
    "# Loading Dataset and Dataloader\n",
    "transform = transforms.Compose(\n",
    "    [transforms.ToTensor(),\n",
    "     transforms.Normalize((0.5, 0.5, 0.5), (0.5, 0.5, 0.5))])\n",
    "\n",
    "trainset = torchvision.datasets.CIFAR100(root='./data', train=True,\n",
    "                                        download=True, transform=transform)\n",
    "trainloader = torch.utils.data.DataLoader(trainset, batch_size=batch_size,\n",
    "                                          shuffle=True, num_workers=2)\n",
    "\n",
    "testset = torchvision.datasets.CIFAR100(root='./data', train=False,\n",
    "                                       download=True, transform=transform)\n",
    "testloader = torch.utils.data.DataLoader(testset, batch_size=batch_size,\n",
    "                                         shuffle=False, num_workers=2)"
   ]
  },
  {
   "cell_type": "code",
   "execution_count": 7,
   "id": "3403dc42",
   "metadata": {},
   "outputs": [],
   "source": [
    "# get one batch random training images\n",
    "dataiter = iter(trainloader)\n",
    "images, labels = next(dataiter)"
   ]
  },
  {
   "cell_type": "markdown",
   "id": "b70dbcd4",
   "metadata": {},
   "source": [
    "Building the LeNet-5 Convolutional Neural Network."
   ]
  },
  {
   "cell_type": "code",
   "execution_count": 8,
   "id": "b013571c",
   "metadata": {},
   "outputs": [],
   "source": [
    "# Model\n",
    "class LeNet(nn.Module):\n",
    "    def __init__(self):\n",
    "        super().__init__()\n",
    "        self.conv1 = nn.Conv2d(3, 6, 5)\n",
    "        self.pool = nn.MaxPool2d(2, 2)\n",
    "        self.conv2 = nn.Conv2d(6, 16, 5)\n",
    "        self.fc1 = nn.Linear(16 * 5 * 5, 120)\n",
    "        self.fc2 = nn.Linear(120, 84)\n",
    "        self.fc3 = nn.Linear(84, 100)\n",
    "\n",
    "    def forward(self, x):\n",
    "        x = self.pool(F.relu(self.conv1(x)))\n",
    "        x = self.pool(F.relu(self.conv2(x)))\n",
    "        x = torch.flatten(x, 1) # flatten all dimensions except batch\n",
    "        x = F.relu(self.fc1(x))\n",
    "        x = F.relu(self.fc2(x))\n",
    "        x = self.fc3(x)\n",
    "        return x\n",
    "\n",
    "images, labels = images.to(device), labels.to(device)"
   ]
  },
  {
   "cell_type": "markdown",
   "id": "94f68f50",
   "metadata": {},
   "source": [
    "Define a Loss function and optimizer. "
   ]
  },
  {
   "cell_type": "code",
   "execution_count": 9,
   "id": "9852fdaf",
   "metadata": {},
   "outputs": [],
   "source": [
    "# Loss and Optimizer\n",
    "model = LeNet().to(device)\n",
    "optimizer = optim.Adam(model.parameters(), lr=0.001)\n",
    "scheduler = torch.optim.lr_scheduler.StepLR(optimizer, step_size= 5, gamma=0.1)\n",
    "criterion = nn.CrossEntropyLoss()"
   ]
  },
  {
   "cell_type": "code",
   "execution_count": 10,
   "id": "22f242e0",
   "metadata": {},
   "outputs": [],
   "source": [
    "writer.add_graph(model, images)\n",
    "writer.close()"
   ]
  },
  {
   "cell_type": "code",
   "execution_count": 11,
   "id": "225958b1",
   "metadata": {},
   "outputs": [],
   "source": [
    "# Define function (For CPU) Memory Report\n",
    "def cpu_mem_report():\n",
    "  print(\"CPU RAM Free: \" + humanize.naturalsize( psutil.virtual_memory().available ))\n",
    "\n",
    "  # Getting usage of cpu virtual_memory in GB\n",
    "  print('RAM Used (GB):', psutil.virtual_memory()[3]/1000000000)\n",
    "  # Getting % usage of cpu virtual_memory\n",
    "  print('CPU RAM % used: ', psutil.virtual_memory()[2])"
   ]
  },
  {
   "cell_type": "code",
   "execution_count": 12,
   "id": "563f55a1",
   "metadata": {},
   "outputs": [],
   "source": [
    "# Define function (For GPU) Memory Report\n",
    "def gpu_mem_report():\n",
    "  print(\"CPU RAM Free: \" + humanize.naturalsize( psutil.virtual_memory().available ))\n",
    "\n",
    "  GPUs = GPUtil.getGPUs()\n",
    "  for i, gpu in enumerate(GPUs):\n",
    "    print('GPU {:d} ... Mem Free: {:.0f}MB / {:.0f}MB | Utilization {:3.0f}%'.format(i, gpu.memoryFree, gpu.memoryTotal, gpu.memoryUtil*100))"
   ]
  },
  {
   "cell_type": "code",
   "execution_count": 13,
   "id": "65ecca3d",
   "metadata": {},
   "outputs": [
    {
     "name": "stdout",
     "output_type": "stream",
     "text": [
      "Epoch:  0\n",
      "Epoch:  0\n",
      "Epoch:  1\n",
      "Epoch:  2\n",
      "Epoch:  2\n",
      "Epoch:  3\n",
      "Epoch:  4\n",
      "Epoch:  4\n",
      "Epoch:  5\n",
      "Epoch:  6\n",
      "Epoch:  6\n",
      "Epoch:  7\n",
      "Epoch:  8\n",
      "Epoch:  8\n",
      "Epoch:  9\n",
      "Finished Training\n",
      "Training Time:  793.1085841655731\n",
      "CPU RAM Free: 2.5 GB\n",
      "RAM Used (GB): 6.033948672\n",
      "CPU RAM % used:  70.9\n"
     ]
    }
   ],
   "source": [
    "# Training\n",
    "t1 = time.time()\n",
    "for epoch in range(10): # loop over the dataset multiple times\n",
    "    total_train_loss = 0.0\n",
    "    total_test_loss = 0.0\n",
    "\n",
    "    print (\"Epoch: \", epoch)\n",
    "\n",
    "    model.train()\n",
    "\n",
    "\n",
    "    total = 0\n",
    "    for idx, (image, label) in enumerate(trainloader):\n",
    "        image, label = image.to(device), label.to(device)\n",
    "        optimizer.zero_grad()\n",
    "\n",
    "        pred = model(image)\n",
    "\n",
    "        loss = criterion(pred, label)\n",
    "        total_train_loss += loss.item()\n",
    "\n",
    "        loss.backward()\n",
    "        optimizer.step()\n",
    "\n",
    "        total_train_loss += loss.item()\n",
    "        pred = torch.nn.functional.softmax(pred, dim=1)\n",
    "\n",
    "        for i, p in enumerate(pred):\n",
    "\n",
    "            if label[i] == torch.max(p.data, 0)[1]:\n",
    "                total = total + 1\n",
    "  \n",
    "    total_train_acc = total / len(trainset)\n",
    "    total_train_loss = total_train_loss / (idx + 1)\n",
    "\n",
    "    total = 0\n",
    "    model.eval()\n",
    "    for idx, (image, label) in enumerate(testloader):\n",
    "       image, label = image.to(device), label.to(device)\n",
    "\n",
    "       pred = model(image)\n",
    "       loss = criterion(pred, label)\n",
    "       total_test_loss += loss.item()\n",
    "       pred = torch.nn.functional.softmax(pred, dim=1)\n",
    "       for i, p in enumerate(pred):\n",
    "          if label[i] == torch.max(p.data, 0)[1]:\n",
    "              total = total + 1\n",
    "\n",
    "    total_test_acc = total / len(testset)\n",
    "    total_test_loss = total_test_loss / (idx + 1)\n",
    "\n",
    "    if epoch %2 == 0: # every 2'nd epoch\n",
    "    \n",
    "        writer.add_scalars('Loss',\n",
    "                           {'Training': total_train_loss,\n",
    "                            'Testing': total_test_loss},\n",
    "                            epoch)\n",
    "      \n",
    "        writer.add_scalars('Accuracy',\n",
    "                          {'Training': total_train_acc,\n",
    "                           'Testing': total_test_acc},\n",
    "                           epoch)\n",
    "        writer.close()\n",
    "        print(\"Epoch: \", epoch)\n",
    "\n",
    "    total_train_loss = 0.0\n",
    "    total_test_loss = 0.0\n",
    "\n",
    "t2 = time.time() \n",
    "print('Finished Training')\n",
    "print(\"Training Time: \", t2-t1)\n",
    "cpu_mem_report()\n",
    "#gpu_mem_report()"
   ]
  },
  {
   "cell_type": "code",
   "execution_count": 14,
   "id": "386f7a7f",
   "metadata": {},
   "outputs": [
    {
     "name": "stdout",
     "output_type": "stream",
     "text": [
      "Accuracy on test set:  0.274\n",
      "Testing Time:  9.162454843521118\n"
     ]
    }
   ],
   "source": [
    "# Evaluation\n",
    "t1 = time.time()\n",
    "n_correct = 0\n",
    "n_total = 0\n",
    "\n",
    "model.eval()\n",
    "\n",
    "with torch.no_grad():\n",
    "    for (images, labels) in testloader:\n",
    "        images = images.to(device)\n",
    "        labels = labels.to(device)\n",
    "\n",
    "        outputs = model(images)\n",
    "\n",
    "        # take class with highest value as prediction\n",
    "        _, predicted = torch.max(outputs.data, 1)\n",
    "\n",
    "        n_total += labels.size(0)\n",
    "        n_correct += (predicted == labels).sum().item()\n",
    "\n",
    "print(f'Accuracy on test set: {n_correct / n_total: .3f}')\n",
    "t2 = time.time() \n",
    "print(\"Testing Time: \", t2-t1)"
   ]
  },
  {
   "cell_type": "code",
   "execution_count": null,
   "id": "1b3a56fd",
   "metadata": {},
   "outputs": [],
   "source": []
  }
 ],
 "metadata": {
  "kernelspec": {
   "display_name": "FinalYearCodes",
   "language": "python",
   "name": "finalyearcodes"
  },
  "language_info": {
   "codemirror_mode": {
    "name": "ipython",
    "version": 3
   },
   "file_extension": ".py",
   "mimetype": "text/x-python",
   "name": "python",
   "nbconvert_exporter": "python",
   "pygments_lexer": "ipython3",
   "version": "3.7.16"
  }
 },
 "nbformat": 4,
 "nbformat_minor": 5
}
