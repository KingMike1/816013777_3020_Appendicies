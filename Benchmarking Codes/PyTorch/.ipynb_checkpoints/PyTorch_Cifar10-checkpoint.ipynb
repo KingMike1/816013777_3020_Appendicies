{
 "cells": [
  {
   "cell_type": "code",
   "execution_count": 1,
   "id": "2f20e076",
   "metadata": {},
   "outputs": [],
   "source": [
    "import os\n",
    "# Toggling between CPU and GPU\n",
    "# GPU in use is NVIDIA GEFORCE 940M\n",
    "# To make the GPU unavailable, uncomment the line of code below\n",
    "#os.environ[\"CUDA_VISIBLE_DEVICES\"] = \"1\""
   ]
  },
  {
   "cell_type": "code",
   "execution_count": 2,
   "id": "e40367ab",
   "metadata": {},
   "outputs": [],
   "source": [
    "# PyTorch model and training necessities\n",
    "import torch\n",
    "import torch.nn as nn\n",
    "import torch.nn.functional as F\n",
    "import torch.optim as optim\n",
    "import time\n",
    "# Image datasets and image manipulation\n",
    "import torchvision\n",
    "import torchvision.transforms as transforms\n",
    "\n",
    "# Image Display\n",
    "import matplotlib.pyplot as plt\n",
    "import numpy as np"
   ]
  },
  {
   "cell_type": "code",
   "execution_count": null,
   "id": "b230a56f",
   "metadata": {},
   "outputs": [],
   "source": [
    "device = torch.device('cuda' if torch.cuda.is_available() else 'cpu')\n",
    "print(device)"
   ]
  },
  {
   "cell_type": "code",
   "execution_count": null,
   "id": "310ffcaf",
   "metadata": {},
   "outputs": [],
   "source": [
    "# PyTorch TensorBoard Support\n",
    "from torch.utils.tensorboard import SummaryWriter\n",
    "\n",
    "#default log_dir is runs\n",
    "writer = SummaryWriter('runs/CIFAR')"
   ]
  },
  {
   "cell_type": "code",
   "execution_count": null,
   "id": "8ec02d2d",
   "metadata": {},
   "outputs": [],
   "source": [
    "# Hyperparameter (same under the hood of tensorflow)\n",
    "batch_size = 10"
   ]
  },
  {
   "cell_type": "code",
   "execution_count": null,
   "id": "c31cfb8d",
   "metadata": {},
   "outputs": [],
   "source": [
    "# Loading Dataset and Dataloader\n",
    "transform = transforms.Compose(\n",
    "    [transforms.ToTensor(),\n",
    "     transforms.Normalize((0.5, 0.5, 0.5), (0.5, 0.5, 0.5))])\n",
    "\n",
    "trainset = torchvision.datasets.CIFAR10(root='./data', train=True,\n",
    "                                        download=True, transform=transform)\n",
    "trainloader = torch.utils.data.DataLoader(trainset, batch_size=batch_size,\n",
    "                                          shuffle=True, num_workers=2)\n",
    "\n",
    "testset = torchvision.datasets.CIFAR10(root='./data', train=False,\n",
    "                                       download=True, transform=transform)\n",
    "testloader = torch.utils.data.DataLoader(testset, batch_size=batch_size,\n",
    "                                         shuffle=False, num_workers=2)"
   ]
  },
  {
   "cell_type": "code",
   "execution_count": null,
   "id": "07b53497",
   "metadata": {},
   "outputs": [],
   "source": [
    "# Plot\n",
    "classes = ('plane', 'car', 'bird', 'cat',\n",
    "           'deer', 'dog', 'frog', 'horse', 'ship', 'truck')\n",
    "\n",
    "# helper function to show an image\n",
    "def imshow(imgs):\n",
    "    img = imgs / 2 + 0.5     # unnormalize\n",
    "    npimgs = imgs.numpy()\n",
    "    plt.imshow(np.transpose(npimgs, (1, 2, 0)))\n",
    "    plt.show()\n",
    "\n",
    "# get one batch random training images\n",
    "dataiter = iter(trainloader)\n",
    "images, labels = next(dataiter)\n",
    "\n",
    "# show images\n",
    "img_grid = torchvision.utils.make_grid(images)\n",
    "imshow(img_grid)\n",
    "\n",
    "# Path to store images for tensorboard\n",
    "writer.add_image(\"CIFAR_images\", img_grid)\n",
    "#writer.flush()\n",
    "writer.close()"
   ]
  },
  {
   "cell_type": "markdown",
   "id": "122cd2ee-c04d-4776-9703-145465f6eebf",
   "metadata": {},
   "source": [
    "Building the LeNet-5 Convolutional Neural Network."
   ]
  },
  {
   "cell_type": "code",
   "execution_count": null,
   "id": "5c0fcb8e-9b7d-45a0-9a4a-5f1ec20622c5",
   "metadata": {},
   "outputs": [],
   "source": [
    "# Model\n",
    "class LeNet(nn.Module):\n",
    "    def __init__(self):\n",
    "        super().__init__()\n",
    "        self.conv1 = nn.Conv2d(3, 6, 5)\n",
    "        self.pool = nn.MaxPool2d(2, 2)\n",
    "        self.conv2 = nn.Conv2d(6, 16, 5)\n",
    "        self.fc1 = nn.Linear(16 * 5 * 5, 120)\n",
    "        self.fc2 = nn.Linear(120, 84)\n",
    "        self.fc3 = nn.Linear(84, 10)\n",
    "\n",
    "    def forward(self, x):\n",
    "        x = self.pool(F.relu(self.conv1(x)))\n",
    "        x = self.pool(F.relu(self.conv2(x)))\n",
    "        x = torch.flatten(x, 1) # flatten all dimensions except batch\n",
    "        x = F.relu(self.fc1(x))\n",
    "        x = F.relu(self.fc2(x))\n",
    "        x = self.fc3(x)\n",
    "        return x\n",
    "\n",
    "images, labels = images.to(device), labels.to(device)"
   ]
  },
  {
   "cell_type": "markdown",
   "id": "cb29619d-fe72-42c9-bdea-a8e34b2ab197",
   "metadata": {},
   "source": [
    "Define a Loss function and optimizer. "
   ]
  },
  {
   "cell_type": "code",
   "execution_count": null,
   "id": "68efbf19-1f0d-4bae-aa86-5cb79d2c7839",
   "metadata": {},
   "outputs": [],
   "source": [
    "# Loss and Optimizer\n",
    "model = LeNet().to(device)\n",
    "optimizer = optim.Adam(model.parameters(), lr=0.001)\n",
    "scheduler = torch.optim.lr_scheduler.StepLR(optimizer, step_size= 5, gamma=0.1)\n",
    "criterion = nn.CrossEntropyLoss()"
   ]
  },
  {
   "cell_type": "code",
   "execution_count": null,
   "id": "09bd771f-a47f-4533-8df0-f3daa530a5a5",
   "metadata": {},
   "outputs": [],
   "source": [
    "writer.add_graph(model, images)\n",
    "writer.close()"
   ]
  },
  {
   "cell_type": "code",
   "execution_count": null,
   "id": "546c6e0c-e239-4658-a5f8-e5a0f44f6972",
   "metadata": {},
   "outputs": [],
   "source": [
    "# Training\n",
    "t1 = time.time()\n",
    "for epoch in range(10): # loop over the dataset multiple times\n",
    "    total_train_loss = 0.0\n",
    "    total_test_loss = 0.0\n",
    "\n",
    "    print (\"Epoch: \", epoch)\n",
    "\n",
    "    model.train()\n",
    "\n",
    "\n",
    "    total = 0\n",
    "    for idx, (image, label) in enumerate(trainloader):\n",
    "        image, label = image.to(device), label.to(device)\n",
    "        optimizer.zero_grad()\n",
    "\n",
    "        pred = model(image)\n",
    "\n",
    "        loss = criterion(pred, label)\n",
    "        total_train_loss += loss.item()\n",
    "\n",
    "        loss.backward()\n",
    "        optimizer.step()\n",
    "\n",
    "        total_train_loss += loss.item()\n",
    "        pred = torch.nn.functional.softmax(pred, dim=1)\n",
    "\n",
    "        for i, p in enumerate(pred):\n",
    "\n",
    "            if label[i] == torch.max(p.data, 0)[1]:\n",
    "                total = total + 1\n",
    "  \n",
    "    total_train_acc = total / len(trainset)\n",
    "    total_train_loss = total_train_loss / (idx + 1)\n",
    "\n",
    "    total = 0\n",
    "    model.eval()\n",
    "    for idx, (image, label) in enumerate(testloader):\n",
    "       image, label = image.to(device), label.to(device)\n",
    "\n",
    "       pred = model(image)\n",
    "       loss = criterion(pred, label)\n",
    "       total_test_loss += loss.item()\n",
    "       pred = torch.nn.functional.softmax(pred, dim=1)\n",
    "       for i, p in enumerate(pred):\n",
    "          if label[i] == torch.max(p.data, 0)[1]:\n",
    "              total = total + 1\n",
    "\n",
    "    total_test_acc = total / len(testset)\n",
    "    total_test_loss = total_test_loss / (idx + 1)\n",
    "\n",
    "    if epoch %2 == 0: # every 2'nd epoch\n",
    "    \n",
    "        writer.add_scalars('Loss',\n",
    "                           {'Training': total_train_loss,\n",
    "                            'Testing': total_test_loss},\n",
    "                            epoch)\n",
    "      \n",
    "        writer.add_scalars('Accuracy',\n",
    "                          {'Training': total_train_acc,\n",
    "                           'Testing': total_test_acc},\n",
    "                           epoch)\n",
    "        writer.close()\n",
    "        print(\"Epoch: \", epoch)\n",
    "\n",
    "    total_train_loss = 0.0\n",
    "    total_test_loss = 0.0\n",
    "\n",
    "t2 = time.time() \n",
    "print('Finished Training')"
   ]
  },
  {
   "cell_type": "code",
   "execution_count": null,
   "id": "b43b1868-5404-4f76-9feb-59920d320dd8",
   "metadata": {},
   "outputs": [],
   "source": [
    "# Evaluation\n",
    "t1 = time.time()\n",
    "n_correct = 0\n",
    "n_total = 0\n",
    "\n",
    "model.eval()\n",
    "\n",
    "with torch.no_grad():\n",
    "    for (images, labels) in testloader:\n",
    "        images = images.to(device)\n",
    "        labels = labels.to(device)\n",
    "\n",
    "        outputs = model(images)\n",
    "\n",
    "        # take class with highest value as prediction\n",
    "        _, predicted = torch.max(outputs.data, 1)\n",
    "\n",
    "        n_total += labels.size(0)\n",
    "        n_correct += (predicted == labels).sum().item()\n",
    "\n",
    "print(f'Accuracy on test set: {n_correct / n_total: .3f}')\n",
    "t2 = time.time() "
   ]
  }
 ],
 "metadata": {
  "kernelspec": {
   "display_name": "FinalYearCodes",
   "language": "python",
   "name": "finalyearcodes"
  },
  "language_info": {
   "codemirror_mode": {
    "name": "ipython",
    "version": 3
   },
   "file_extension": ".py",
   "mimetype": "text/x-python",
   "name": "python",
   "nbconvert_exporter": "python",
   "pygments_lexer": "ipython3",
   "version": "3.7.16"
  }
 },
 "nbformat": 4,
 "nbformat_minor": 5
}
