{
 "cells": [
  {
   "cell_type": "code",
   "execution_count": 1,
   "id": "cc06d10f",
   "metadata": {},
   "outputs": [],
   "source": [
    "import os\n",
    "# Toggling between CPU and GPU\n",
    "# GPU in use is NVIDIA GEFORCE 940M\n",
    "# Theano backend is being used for keras\n",
    "# To make the GPU unavailable, uncomment the line of code below\n",
    "#os.environ[\"CUDA_VISIBLE_DEVICES\"] = \"1\""
   ]
  },
  {
   "cell_type": "code",
   "execution_count": 2,
   "id": "642caa48",
   "metadata": {},
   "outputs": [],
   "source": [
    "from tensorflow.keras.callbacks import TensorBoard\n",
    "file_name = 'my_save_model'\n",
    "tensorboard = TensorBoard(log_dir=\"logs\\\\{}\".format(file_name))"
   ]
  },
  {
   "cell_type": "code",
   "execution_count": 3,
   "id": "7589e95c",
   "metadata": {},
   "outputs": [
    {
     "name": "stderr",
     "output_type": "stream",
     "text": [
      "Using TensorFlow backend.\n"
     ]
    }
   ],
   "source": [
    "import tensorflow as tf\n",
    "import time\n",
    "import datetime, os\n",
    "from tensorflow.keras import datasets, layers, models\n",
    "import matplotlib.pyplot as plt\n",
    "from keras.utils import to_categorical\n",
    "\n",
    "import sys,humanize,psutil,GPUtil"
   ]
  },
  {
   "cell_type": "markdown",
   "id": "f854c6fd",
   "metadata": {},
   "source": [
    "# MNIST Dataset\n",
    "The Modified National Institute of Standards and Technology dataset is known by the abbreviation MNIST dataset. It is a collection of 60,000 tiny square grayscale images, each measuring 28 by 28, comprising handwritten single numbers between 0 and 9. The assignment is to place a handwritten digit picture into one of ten classes that correspond to integer values from 0 to 9, inclusively.\n"
   ]
  },
  {
   "cell_type": "code",
   "execution_count": 4,
   "id": "8307f4fe",
   "metadata": {},
   "outputs": [],
   "source": [
    "# Loading Dataset (CIFAR-10 dataset)\n",
    "(train_images, train_labels), (test_images, test_labels) = datasets.mnist.load_data()"
   ]
  },
  {
   "cell_type": "code",
   "execution_count": 5,
   "id": "ac28120c",
   "metadata": {},
   "outputs": [
    {
     "name": "stdout",
     "output_type": "stream",
     "text": [
      "Train: X=(60000, 28, 28), y=(60000,)\n",
      "Test: X=(10000, 28, 28), y=(10000,)\n"
     ]
    },
    {
     "data": {
      "image/png": "[encoded data removed]",
      "text/plain": [
       "<Figure size 432x288 with 9 Axes>"
      ]
     },
     "metadata": {
      "needs_background": "light"
     },
     "output_type": "display_data"
    }
   ],
   "source": [
    "print('Train: X=%s, y=%s' % (train_images.shape, train_labels.shape))\n",
    "print('Test: X=%s, y=%s' % (test_images.shape, test_labels.shape))\n",
    "\n",
    "# plot first few images\n",
    "for i in range(9):\n",
    " # define subplot\n",
    " plt.subplot(330 + 1 + i)\n",
    " # plot raw pixel data\n",
    " plt.imshow(train_images[i], cmap=plt.get_cmap('gray'))\n",
    "# show the figure\n",
    "plt.show()"
   ]
  },
  {
   "cell_type": "code",
   "execution_count": 6,
   "id": "943535d5",
   "metadata": {},
   "outputs": [],
   "source": [
    "# Reshape images for mnist (28 x 28, 1)\n",
    "train_images = train_images.reshape(60000, 28, 28, 1)\n",
    "test_images=test_images.reshape(10000, 28, 28, 1)\n",
    "\n",
    "# Normalize pixel values to be between 0 and 1\n",
    "train_images, test_images = train_images / 255.0, test_images / 255.0"
   ]
  },
  {
   "cell_type": "code",
   "execution_count": 7,
   "id": "41702136",
   "metadata": {},
   "outputs": [
    {
     "name": "stdout",
     "output_type": "stream",
     "text": [
      "_________________________________________________________________\n",
      "Layer (type)                 Output Shape              Param #   \n",
      "=================================================================\n",
      "conv2d (Conv2D)              (None, 24, 24, 36)        936       \n",
      "_________________________________________________________________\n",
      "max_pooling2d (MaxPooling2D) (None, 12, 12, 36)        0         \n",
      "_________________________________________________________________\n",
      "conv2d_1 (Conv2D)            (None, 8, 8, 16)          14416     \n",
      "_________________________________________________________________\n",
      "max_pooling2d_1 (MaxPooling2 (None, 4, 4, 16)          0         \n",
      "_________________________________________________________________\n",
      "flatten (Flatten)            (None, 256)               0         \n",
      "_________________________________________________________________\n",
      "dense (Dense)                (None, 120)               30840     \n",
      "_________________________________________________________________\n",
      "dense_1 (Dense)              (None, 84)                10164     \n",
      "_________________________________________________________________\n",
      "dense_2 (Dense)              (None, 10)                850       \n",
      "=================================================================\n",
      "Total params: 57,206\n",
      "Trainable params: 57,206\n",
      "Non-trainable params: 0\n",
      "_________________________________________________________________\n"
     ]
    }
   ],
   "source": [
    "# Model Buiding\n",
    "LeNet = models.Sequential()\n",
    "\n",
    "# Convolution 1: Filters as we know is 6. Filter size is 5x5, relu is the activation function\n",
    "LeNet.add(layers.Conv2D(36, (5,5), activation = 'relu', input_shape=(28,28,1)))\n",
    "# Subsampling 1: Input  = 32x32x6. Output = 14x14x6. SubSampling is simply MaxPooling so we use MaxPool (image reduction factor of 2)\n",
    "LeNet.add(layers.MaxPooling2D((2,2)))\n",
    "\n",
    "# Convolution 2: Input = 14x14x6. Output = 10x10x16 Conv2d\n",
    "LeNet.add(layers.Conv2D(16, (5,5), activation='relu'))\n",
    "# Subsampling 2: Input 32x32x6. Output = 14x14x6. SubSampling is simply MaxPooling so we use MaxPool (image reduction factor of 2)\n",
    "LeNet.add(layers.MaxPooling2D((2,2)))\n",
    "\n",
    "# Flatten for further steps to happen\n",
    "# It is the process of converting all the resultant 2D arrays as single long continous linear vector\n",
    "LeNet.add(layers.Flatten())\n",
    "\n",
    "# Fully connected 1: Input = 5x5x16. Output = 120\n",
    "LeNet.add(layers.Dense(120, activation='relu'))\n",
    "\n",
    "# Fully connected 2: Input =120. Output = 84\n",
    "LeNet.add(layers.Dense(84, activation='relu'))\n",
    "\n",
    "# Final, Output and activation through softmax\n",
    "LeNet.add(layers.Dense(10, activation='softmax'))\n",
    "LeNet.summary()"
   ]
  },
  {
   "cell_type": "code",
   "execution_count": 8,
   "id": "d5e2fb6a",
   "metadata": {},
   "outputs": [],
   "source": [
    "# Compile\n",
    "LeNet.compile(optimizer = 'Adam', loss='sparse_categorical_crossentropy', metrics=['accuracy'])"
   ]
  },
  {
   "cell_type": "code",
   "execution_count": 9,
   "id": "fe3745df",
   "metadata": {},
   "outputs": [],
   "source": [
    "# Define function (For CPU) Memory Report\n",
    "def cpu_mem_report():\n",
    "  print(\"CPU RAM Free: \" + humanize.naturalsize( psutil.virtual_memory().available ))\n",
    "\n",
    "  # Getting usage of cpu virtual_memory in GB\n",
    "  print('RAM Used (GB):', psutil.virtual_memory()[3]/1000000000)\n",
    "  # Getting % usage of cpu virtual_memory\n",
    "  print('CPU RAM % used: ', psutil.virtual_memory()[2])"
   ]
  },
  {
   "cell_type": "code",
   "execution_count": 10,
   "id": "84e3adbb",
   "metadata": {},
   "outputs": [],
   "source": [
    "# Define function (For GPU) Memory Report\n",
    "def gpu_mem_report():\n",
    "  print(\"CPU RAM Free: \" + humanize.naturalsize( psutil.virtual_memory().available ))\n",
    "\n",
    "  GPUs = GPUtil.getGPUs()\n",
    "  for i, gpu in enumerate(GPUs):\n",
    "    print('GPU {:d} ... Mem Free: {:.0f}MB / {:.0f}MB | Utilization {:3.0f}%'.format(i, gpu.memoryFree, gpu.memoryTotal, gpu.memoryUtil*100))"
   ]
  },
  {
   "cell_type": "code",
   "execution_count": 11,
   "id": "f9c93c0b",
   "metadata": {},
   "outputs": [
    {
     "name": "stdout",
     "output_type": "stream",
     "text": [
      "Train on 48000 samples, validate on 12000 samples\n",
      "Epoch 1/10\n",
      "48000/48000 [==============================] - 48s 1000us/step - loss: 0.1385 - acc: 0.9564 - val_loss: 0.0597 - val_acc: 0.9822\n",
      "Epoch 2/10\n",
      "48000/48000 [==============================] - 47s 977us/step - loss: 0.0538 - acc: 0.9839 - val_loss: 0.0443 - val_acc: 0.9872\n",
      "Epoch 3/10\n",
      "48000/48000 [==============================] - 54s 1ms/step - loss: 0.0381 - acc: 0.9885 - val_loss: 0.0508 - val_acc: 0.9847\n",
      "Epoch 4/10\n",
      "48000/48000 [==============================] - 46s 964us/step - loss: 0.0323 - acc: 0.9902 - val_loss: 0.0519 - val_acc: 0.9852\n",
      "Epoch 5/10\n",
      "48000/48000 [==============================] - 43s 893us/step - loss: 0.0260 - acc: 0.9918 - val_loss: 0.0508 - val_acc: 0.9868\n",
      "Epoch 6/10\n",
      "48000/48000 [==============================] - 48s 995us/step - loss: 0.0220 - acc: 0.9936 - val_loss: 0.0433 - val_acc: 0.9892\n",
      "Epoch 7/10\n",
      "48000/48000 [==============================] - 43s 895us/step - loss: 0.0187 - acc: 0.9943 - val_loss: 0.0818 - val_acc: 0.9816\n",
      "Epoch 8/10\n",
      "48000/48000 [==============================] - 46s 966us/step - loss: 0.0182 - acc: 0.9946 - val_loss: 0.0396 - val_acc: 0.9905\n",
      "Epoch 9/10\n",
      "48000/48000 [==============================] - 47s 973us/step - loss: 0.0149 - acc: 0.9956 - val_loss: 0.0513 - val_acc: 0.9885\n",
      "Epoch 10/10\n",
      "48000/48000 [==============================] - 43s 906us/step - loss: 0.0172 - acc: 0.9951 - val_loss: 0.0514 - val_acc: 0.9872\n",
      "Training Time:  470.7183291912079\n",
      "CPU RAM Free: 1.3 GB\n",
      "GPU 0 ... Mem Free: 390MB / 2048MB | Utilization  79%\n"
     ]
    }
   ],
   "source": [
    "# Train model\n",
    "t1 = time.time()\n",
    "\n",
    "# Training for 10 epochs and a batch size of 10\n",
    "history = LeNet.fit( train_images, train_labels, verbose=1, epochs = 10, batch_size = 10, validation_split = 0.2, callbacks=[tensorboard])\n",
    "#model.fit(train_images[:20000], train_labels[:20000], epochs = , batch_size = 10)\n",
    "t2 = time.time() \n",
    "print(\"Training Time: \", t2-t1)\n",
    "#cpu_mem_report()\n",
    "gpu_mem_report()"
   ]
  },
  {
   "cell_type": "code",
   "execution_count": 12,
   "id": "7c4dde34",
   "metadata": {},
   "outputs": [
    {
     "name": "stdout",
     "output_type": "stream",
     "text": [
      "10000/10000 [==============================] - 1s 143us/step\n",
      "Accuracy =  98.72999999999999 %\n",
      "Testing Time:  1.4291813373565674\n"
     ]
    }
   ],
   "source": [
    "# Evaluating the framework on the Test dataset\n",
    "t1 = time.time()\n",
    "\n",
    "_, acc = LeNet.evaluate(test_images, test_labels)\n",
    "print(\"Accuracy = \", (acc*100.0), \"%\")\n",
    "\n",
    "t2 = time.time() \n",
    "print(\"Testing Time: \", t2-t1)"
   ]
  },
  {
   "cell_type": "code",
   "execution_count": 13,
   "id": "13d93939",
   "metadata": {},
   "outputs": [
    {
     "data": {
      "image/png": "[encoded data removed]",
      "text/plain": [
       "<Figure size 432x288 with 1 Axes>"
      ]
     },
     "metadata": {
      "needs_background": "light"
     },
     "output_type": "display_data"
    }
   ],
   "source": [
    "# Plot the training and validation accuracy and loss at each epoch\n",
    "loss = history.history['loss']\n",
    "val_loss = history.history['val_loss']\n",
    "epochs = range(1, len(loss) + 1)\n",
    "plt.plot(epochs, loss, 'y', label='Training Loss')\n",
    "plt.plot(epochs, val_loss,'r', label='Validation Loss')\n",
    "plt.title('Training and Validation Loss')\n",
    "plt.xlabel('Epochs')\n",
    "plt.ylabel('Loss')\n",
    "plt.legend()\n",
    "plt.show()"
   ]
  },
  {
   "cell_type": "code",
   "execution_count": 14,
   "id": "b49a52a1",
   "metadata": {},
   "outputs": [
    {
     "data": {
      "image/png": "[encoded data removed]",
      "text/plain": [
       "<Figure size 432x288 with 1 Axes>"
      ]
     },
     "metadata": {
      "needs_background": "light"
     },
     "output_type": "display_data"
    }
   ],
   "source": [
    "acc = history.history['acc']\n",
    "val_acc = history.history['val_acc']\n",
    "plt.plot(epochs, acc, 'y', label='Training acc')\n",
    "plt.plot(epochs, val_acc,'r', label='Validation acc')\n",
    "plt.title('Training and Validation Accuracy')\n",
    "plt.xlabel('Epochs')\n",
    "plt.ylabel('Accuracy')\n",
    "plt.legend()\n",
    "plt.show()"
   ]
  },
  {
   "cell_type": "code",
   "execution_count": null,
   "id": "8d4af309",
   "metadata": {},
   "outputs": [],
   "source": []
  }
 ],
 "metadata": {
  "kernelspec": {
   "display_name": "MyTestEnv",
   "language": "python",
   "name": "mytestenv"
  },
  "language_info": {
   "codemirror_mode": {
    "name": "ipython",
    "version": 3
   },
   "file_extension": ".py",
   "mimetype": "text/x-python",
   "name": "python",
   "nbconvert_exporter": "python",
   "pygments_lexer": "ipython3",
   "version": "3.5.4"
  }
 },
 "nbformat": 4,
 "nbformat_minor": 5
}
